{
 "cells": [
  {
   "cell_type": "code",
   "execution_count": 1,
   "metadata": {},
   "outputs": [],
   "source": [
    "import gym"
   ]
  },
  {
   "cell_type": "code",
   "execution_count": 5,
   "metadata": {},
   "outputs": [],
   "source": [
    "import random"
   ]
  },
  {
   "cell_type": "code",
   "execution_count": 9,
   "metadata": {},
   "outputs": [],
   "source": [
    "class MyEnv:\n",
    "    def __init__(self):\n",
    "        self.n_step = 4\n",
    "    \n",
    "    \n",
    "    def reset(self):\n",
    "        obs = \"안녕\"\n",
    "        return obs\n",
    "    \n",
    "    def step(self, action):\n",
    "        obs_list = [\"오늘 날씨 좋아?\", \"오늘 경기 봤어?\", \"재미있는 거 없어?\"]\n",
    "        obs = random.choice(obs_list)\n",
    "        reward = None\n",
    "        self.n_step -= 1\n",
    "        if self.n_step == 0:\n",
    "            done = True\n",
    "        else: \n",
    "            done = False                   \n",
    "        info = None\n",
    "        return obs, reward, done, info"
   ]
  },
  {
   "cell_type": "code",
   "execution_count": 10,
   "metadata": {},
   "outputs": [],
   "source": [
    "class MyAgent:\n",
    "    \n",
    "    def trans_w2v(self,obs):\n",
    "        \n",
    "        feat = 1 \n",
    "        \n",
    "        return feat\n",
    "        \n",
    "    def act(self, obs):\n",
    "        feat = self.trans_w2v(obs)\n",
    "        \n",
    "        action = \"안녕\"\n",
    "        return action"
   ]
  },
  {
   "cell_type": "code",
   "execution_count": 11,
   "metadata": {},
   "outputs": [
    {
     "name": "stdout",
     "output_type": "stream",
     "text": [
      "챗봇:  안녕\n",
      "나:  오늘 날씨 좋아?\n",
      "챗봇:  안녕\n",
      "나:  오늘 날씨 좋아?\n",
      "챗봇:  안녕\n",
      "나:  재미있는 거 없어?\n",
      "챗봇:  안녕\n",
      "나:  재미있는 거 없어?\n",
      "Reward got: 0.00\n"
     ]
    }
   ],
   "source": [
    "\n",
    "if __name__ == \"__main__\":\n",
    "    #env = RandomActionWrapper(gym.make(\"CartPole-v0\"))\n",
    "    env = MyEnv()\n",
    "    agent = MyAgent()\n",
    "\n",
    "    obs = env.reset()\n",
    "    total_reward = 0.0\n",
    "\n",
    "    while True:\n",
    "        action = agent.act(obs)\n",
    "        print(\"챗봇: \", action)\n",
    "        obs, reward, done, _ = env.step(action)\n",
    "        print(\"나: \", obs)\n",
    "\n",
    "        #obs, reward, done, _ = env.step(0)\n",
    "        #total_reward += reward\n",
    "        if done:\n",
    "            break\n",
    "\n",
    "    print(\"Reward got: %.2f\" % total_reward)\n"
   ]
  },
  {
   "cell_type": "code",
   "execution_count": null,
   "metadata": {},
   "outputs": [],
   "source": []
  }
 ],
 "metadata": {
  "kernelspec": {
   "display_name": "Python 3",
   "language": "python",
   "name": "python3"
  },
  "language_info": {
   "codemirror_mode": {
    "name": "ipython",
    "version": 3
   },
   "file_extension": ".py",
   "mimetype": "text/x-python",
   "name": "python",
   "nbconvert_exporter": "python",
   "pygments_lexer": "ipython3",
   "version": "3.7.6"
  }
 },
 "nbformat": 4,
 "nbformat_minor": 4
}
