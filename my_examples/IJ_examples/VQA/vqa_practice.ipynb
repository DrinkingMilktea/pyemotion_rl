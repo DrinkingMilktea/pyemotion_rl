{
 "cells": [
  {
   "cell_type": "code",
   "execution_count": null,
   "metadata": {},
   "outputs": [],
   "source": [
    "1. 환경이 이미지와 텍스트를 동시에 출력하게\n",
    "2. 에이전트가 잘 대답하면 +1 보상으로, 틀리게 대답하면 -1을 보상으로 주도록 "
   ]
  },
  {
   "cell_type": "code",
   "execution_count": 1,
   "metadata": {},
   "outputs": [],
   "source": [
    "import gym\n",
    "import random"
   ]
  },
  {
   "cell_type": "code",
   "execution_count": 2,
   "metadata": {},
   "outputs": [],
   "source": [
    "from PIL import Image\n",
    "import requests\n",
    "from io import BytesIO"
   ]
  },
  {
   "cell_type": "code",
   "execution_count": 31,
   "metadata": {},
   "outputs": [],
   "source": [
    "class MyEnv:\n",
    "    \n",
    "    def __init__(self):\n",
    "        self.n_step = 2 #훈련 횟수\n",
    "        \n",
    "        self.image_url = [\n",
    "            'https://mblogthumb-phinf.pstatic.net/MjAxOTEyMTJfMjYw/MDAxNTc2MTQwMDE0MjIy.F1V39cfeZPhX87yFFlqkZQqfGmycVOxXbO3vg0dFrvEg.12ulcNAMUNyNzlE7rz5Hk2NVlJfkakVTOspDnzyRkUMg.PNG.vet6390/%EA%B8%B8%EA%B3%A0%EC%96%91%EC%9D%B4_%EC%9E%85%EC%96%91.PNG?type=w800',\n",
    "            'https://images.mypetlife.co.kr/content/uploads/2019/09/04222847/dog-panting-1536x1024.jpg',\n",
    "            'https://t1.daumcdn.net/thumb/R720x0/?fname=http://t1.daumcdn.net/brunch/service/user/4arX/image/TrbRquy4TZ1rvMVYBYaIXp0cTxo.jpg',\n",
    "        ]\n",
    "        \n",
    "        self.image_answer = [\"고양이\", \"강아지\", \"토끼\"]\n",
    "        \n",
    "        self.observation_space = [{\"img\": self.image_url[i], \"answer\":self.image_answer[i]} for i in range(3)]\n",
    "    \n",
    "    def sample(self):\n",
    "        return random.choice(self.observation_space)\n",
    "    \n",
    "    def reset(self):\n",
    "        obs = \"안녕\"\n",
    "        return obs\n",
    "    \n",
    "    def step(self, action):\n",
    "        obs = self.sample() # image와 text를 랜덤으로 뽑음\n",
    "        reward = None\n",
    "        self.n_step -= 1\n",
    "        if self.n_step == 0:\n",
    "            done = True\n",
    "        else:\n",
    "            done = False\n",
    "        info = None\n",
    "        return obs, reward, done, info #obs : 관측값, reward : 보상, done : 종료 여부, info : 추가 정보"
   ]
  },
  {
   "cell_type": "code",
   "execution_count": 32,
   "metadata": {},
   "outputs": [],
   "source": [
    "class MyAgent:\n",
    "    \n",
    "    def __init__(self):\n",
    "        self.action_spaces = [\"고양이\", \"강아지\", \"토끼\"]\n",
    "\n",
    "    def sample(self):\n",
    "        return random.choice(self.action_spaces)\n",
    "\n",
    "    \n",
    "    def act(self,obs):\n",
    "        #feat = self.trans_w2v(obs)\n",
    "        action = self.sample()\n",
    "        return action"
   ]
  },
  {
   "cell_type": "code",
   "execution_count": 35,
   "metadata": {},
   "outputs": [
    {
     "name": "stdout",
     "output_type": "stream",
     "text": [
      "나 :  안녕\n",
      "나 :  None\n",
      "나 : 이게 뭐야? \n",
      "챗봇 :  강아지\n",
      "나 :  None\n",
      "나 : 이게 뭐야? \n",
      "챗봇 :  토끼\n",
      "Reward got: -2.00\n"
     ]
    }
   ],
   "source": [
    "if __name__ == \"__main__\":\n",
    "    #env = RandomActionWrapper(gym.make(\"CartPole-v0\"))\n",
    "    env = MyEnv() #gym.make(\"CartPole-v0\")\n",
    "    agent = MyAgent()\n",
    "    \n",
    "    obs = env.reset()\n",
    "    print(\"나 : \", obs)\n",
    "    total_reward = 0.0\n",
    "\n",
    "    while True:\n",
    "        action = agent.act(obs) #MyAgent Class에서 설정\n",
    "        #print(\"챗봇 : \", action)\n",
    "        \n",
    "        obs, reward, done, _ = env.step(action)\n",
    "        \n",
    "        response = requests.get(obs['img'], stream=True)\n",
    "        img = Image.open(BytesIO(response.content))\n",
    "        \n",
    "        print(\"나 : \", img.show() )\n",
    "        print(\"나 : 이게 뭐야? \")\n",
    "        \n",
    "        #action = agent.act(obs) \n",
    "        print(\"챗봇 : \", action)\n",
    "        \n",
    "        if action == obs['answer']:   \n",
    "            total_reward +=1\n",
    "        \n",
    "        else:\n",
    "            total_reward -=1\n",
    "\n",
    "        \n",
    "    #print(reward)\n",
    "    #print(done)\n",
    "    #print(info)\n",
    "        #total_reward += reward\n",
    "        if done:\n",
    "            break\n",
    "\n",
    "    print(\"Reward got: %.2f\" % total_reward)"
   ]
  },
  {
   "cell_type": "code",
   "execution_count": null,
   "metadata": {},
   "outputs": [],
   "source": []
  }
 ],
 "metadata": {
  "kernelspec": {
   "display_name": "Python 3.8.5 64-bit ('pyemotion_rl': conda)",
   "language": "python",
   "name": "python38564bitpyemotionrlcondada5c301dcdb94d40b29aba6cbcdbe52c"
  },
  "language_info": {
   "codemirror_mode": {
    "name": "ipython",
    "version": 3
   },
   "file_extension": ".py",
   "mimetype": "text/x-python",
   "name": "python",
   "nbconvert_exporter": "python",
   "pygments_lexer": "ipython3",
   "version": "3.8.5"
  }
 },
 "nbformat": 4,
 "nbformat_minor": 4
}
