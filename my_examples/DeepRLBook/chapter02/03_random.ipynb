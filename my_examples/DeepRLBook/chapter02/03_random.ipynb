{
 "cells": [
  {
   "cell_type": "code",
   "execution_count": 1,
   "metadata": {},
   "outputs": [
    {
     "name": "stdout",
     "output_type": "stream",
     "text": [
      "hello\n"
     ]
    }
   ],
   "source": [
    "if __name__ == \"__main__\":\n",
    "    print('hello')"
   ]
  },
  {
   "cell_type": "code",
   "execution_count": 4,
   "metadata": {},
   "outputs": [],
   "source": [
    "import mymath"
   ]
  },
  {
   "cell_type": "code",
   "execution_count": 13,
   "metadata": {},
   "outputs": [
    {
     "name": "stdout",
     "output_type": "stream",
     "text": [
      "Collecting gym\n",
      "  Downloading gym-0.17.2.tar.gz (1.6 MB)\n",
      "Requirement already satisfied: scipy in c:\\anaconda3\\lib\\site-packages (from gym) (1.5.0)\n",
      "Requirement already satisfied: numpy>=1.10.4 in c:\\anaconda3\\lib\\site-packages (from gym) (1.18.5)\n",
      "Collecting pyglet<=1.5.0,>=1.4.0\n",
      "  Downloading pyglet-1.5.0-py2.py3-none-any.whl (1.0 MB)\n",
      "Collecting cloudpickle<1.4.0,>=1.2.0\n",
      "  Using cached cloudpickle-1.3.0-py2.py3-none-any.whl (26 kB)\n",
      "Requirement already satisfied: future in c:\\anaconda3\\lib\\site-packages (from pyglet<=1.5.0,>=1.4.0->gym) (0.18.2)\n",
      "Building wheels for collected packages: gym\n",
      "  Building wheel for gym (setup.py): started\n",
      "  Building wheel for gym (setup.py): finished with status 'done'\n",
      "  Created wheel for gym: filename=gym-0.17.2-py3-none-any.whl size=1650896 sha256=560b12768f4547426f663c6990d549e66fc525271ee7d8fb7d0797f643c9884f\n",
      "  Stored in directory: c:\\users\\이인주\\appdata\\local\\pip\\cache\\wheels\\48\\bf\\7c\\44b1b8e4ad998fc48e31caedbb9e028351861b8d20632642bc\n",
      "Successfully built gym\n",
      "Installing collected packages: pyglet, cloudpickle, gym\n",
      "  Attempting uninstall: cloudpickle\n",
      "    Found existing installation: cloudpickle 1.5.0\n",
      "    Uninstalling cloudpickle-1.5.0:\n",
      "      Successfully uninstalled cloudpickle-1.5.0\n",
      "Successfully installed cloudpickle-1.3.0 gym-0.17.2 pyglet-1.5.0\n",
      "Note: you may need to restart the kernel to use updated packages.\n"
     ]
    },
    {
     "name": "stderr",
     "output_type": "stream",
     "text": [
      "ERROR: spyder 4.1.4 requires pyqt5<5.13; python_version >= \"3\", which is not installed.\n",
      "ERROR: spyder 4.1.4 requires pyqtwebengine<5.13; python_version >= \"3\", which is not installed.\n"
     ]
    }
   ],
   "source": [
    "pip install gym"
   ]
  },
  {
   "cell_type": "code",
   "execution_count": 14,
   "metadata": {},
   "outputs": [],
   "source": [
    "import gym"
   ]
  },
  {
   "cell_type": "code",
   "execution_count": null,
   "metadata": {},
   "outputs": [],
   "source": [
    "class MyEnv:\n",
    "    \n",
    "    def __init__(self):\n",
    "        n_step = 2\n",
    "        \n",
    "    def reset(self):\n",
    "        obs = \"안녕\"\n",
    "        return obs\n",
    "    \n",
    "    def step(self, action):\n",
    "        obs = random.sample([\"오늘 날씨 좋아\", \"오늘 경기 봤어?\", \"재미난거 없어?\"])\n",
    "        reward = None\n",
    "        self.n_step -= 1\n",
    "        if self.n_step == 0:\n",
    "            done = Ture\n",
    "        else:\n",
    "            done = False\n",
    "        info = None\n",
    "        return obs, reward, done, info"
   ]
  },
  {
   "cell_type": "code",
   "execution_count": null,
   "metadata": {},
   "outputs": [],
   "source": [
    "class MyAgent:\n",
    "    \n",
    "    def trans_w2v(obs):\n",
    "        \n",
    "        #deeplearning\n",
    "        \n",
    "        return feat\n",
    "    \n",
    "    def act(self, obs):\n",
    "        feat = self.trans_w2v(obs)\n",
    "        action = [\"안녕\"]\n",
    "        return action"
   ]
  },
  {
   "cell_type": "code",
   "execution_count": null,
   "metadata": {},
   "outputs": [],
   "source": [
    "if __name__ == \"__main__\":\n",
    "    #env = RandomActionWrapper(gym.make(\"CartPole-v0\"))\n",
    "    env = MyEnv() #gym.make(\"CartPole-v0\")\n",
    "    agent = MyAgent()\n",
    "    \n",
    "    obs = env.reset()\n",
    "    print(obs)\n",
    "    total_reward = 0.0\n",
    "\n",
    "    while True:\n",
    "        action = agent.act(obs)\n",
    "        print(\"챗봇:\", action)\n",
    "        obs, reward, done, _ = env.step(action)\n",
    "        print(\"나:\", obs)\n",
    "    print(reward)\n",
    "    print(done)\n",
    "    print(info)\n",
    "    #    total_reward += reward\n",
    "        if done:\n",
    "            break\n",
    "\n",
    "    print(\"Reward got: %.2f\" % total_reward)"
   ]
  },
  {
   "cell_type": "code",
   "execution_count": null,
   "metadata": {},
   "outputs": [],
   "source": []
  },
  {
   "cell_type": "code",
   "execution_count": null,
   "metadata": {},
   "outputs": [],
   "source": []
  }
 ],
 "metadata": {
  "kernelspec": {
   "display_name": "Python 3",
   "language": "python",
   "name": "python3"
  },
  "language_info": {
   "codemirror_mode": {
    "name": "ipython",
    "version": 3
   },
   "file_extension": ".py",
   "mimetype": "text/x-python",
   "name": "python",
   "nbconvert_exporter": "python",
   "pygments_lexer": "ipython3",
   "version": "3.8.3"
  }
 },
 "nbformat": 4,
 "nbformat_minor": 4
}
