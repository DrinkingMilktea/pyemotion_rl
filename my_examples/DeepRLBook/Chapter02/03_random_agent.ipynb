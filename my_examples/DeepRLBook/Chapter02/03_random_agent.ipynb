{
 "cells": [
  {
   "cell_type": "code",
   "execution_count": 6,
   "metadata": {},
   "outputs": [],
   "source": [
    "import gym"
   ]
  },
  {
   "cell_type": "code",
   "execution_count": 36,
   "metadata": {},
   "outputs": [],
   "source": [
    "class MyEnv:\n",
    "    \n",
    "    def __init__(self):\n",
    "        self.n_step = 2\n",
    "        \n",
    "    def reset(self):\n",
    "        obs = \"안녕\"\n",
    "        return obs\n",
    "    \n",
    "    def step(self, action):\n",
    "        obs = [\"오늘 날씨 좋아?\", \"오늘 경기 봤어?\", \"재미난거 없어?\"]\n",
    "        reward = None\n",
    "        self.n_step -= 1\n",
    "        if self.n_step == 0:\n",
    "            done = True\n",
    "        else:\n",
    "            done = False\n",
    "        info = None\n",
    "        return obs, reward, done, info"
   ]
  },
  {
   "cell_type": "code",
   "execution_count": 39,
   "metadata": {},
   "outputs": [],
   "source": [
    "class MyAgent:\n",
    "    \n",
    "    def trans_w2v(obs):\n",
    "        \n",
    "        # \n",
    "        \n",
    "        return feat\n",
    "    \n",
    "    def act(self,obs):\n",
    "        feat = self.trans_w2v(obs)\n",
    "        action = [\"안녕\"]\n",
    "        return action"
   ]
  },
  {
   "cell_type": "code",
   "execution_count": 38,
   "metadata": {},
   "outputs": [
    {
     "name": "stdout",
     "output_type": "stream",
     "text": [
      "나 :  안녕\n",
      "챗봇 :  안녕\n",
      "나 :  오늘 날씨 좋아?\n",
      "챗봇 :  안녕\n",
      "나 :  오늘 날씨 좋아?\n",
      "Reward got: 0.00\n"
     ]
    }
   ],
   "source": [
    "if __name__ == \"__main__\":\n",
    "    #env = RandomActionWrapper(gym.make(\"CartPole-v0\"))\n",
    "    env = MyEnv() #gym.make(\"CartPole-v0\")\n",
    "    agent = MyAgent()\n",
    "    \n",
    "    obs = env.reset()\n",
    "    print(\"나 : \", obs)\n",
    "    total_reward = 0.0\n",
    "\n",
    "    while True:\n",
    "        action = agent.act(obs)\n",
    "        print(\"챗봇 : \", action)\n",
    "        obs, reward, done, _ = env.step(action)\n",
    "        print(\"나 : \", obs)\n",
    "    #print(reward)\n",
    "    #print(done)\n",
    "    #print(info)\n",
    "    #    total_reward += reward\n",
    "        if done:\n",
    "            break\n",
    "\n",
    "    print(\"Reward got: %.2f\" % total_reward)\n"
   ]
  },
  {
   "cell_type": "code",
   "execution_count": null,
   "metadata": {},
   "outputs": [],
   "source": []
  }
 ],
 "metadata": {
  "kernelspec": {
   "display_name": "Python 3",
   "language": "python",
   "name": "python3"
  },
  "language_info": {
   "codemirror_mode": {
    "name": "ipython",
    "version": 3
   },
   "file_extension": ".py",
   "mimetype": "text/x-python",
   "name": "python",
   "nbconvert_exporter": "python",
   "pygments_lexer": "ipython3",
   "version": "3.7.7"
  }
 },
 "nbformat": 4,
 "nbformat_minor": 4
}
